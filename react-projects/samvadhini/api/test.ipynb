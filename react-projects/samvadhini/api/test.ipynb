{
 "cells": [
  {
   "cell_type": "code",
   "execution_count": 1,
   "metadata": {},
   "outputs": [],
   "source": [
    "import requests\n",
    "import json"
   ]
  },
  {
   "cell_type": "code",
   "execution_count": 3,
   "metadata": {},
   "outputs": [
    {
     "data": {
      "text/plain": [
       "'{\\n  \"answers\": [\\n    {\\n      \"answer\": \"Father\\'s Name/Mother\\'s name is incorrect on grade card\", \\n      \"context\": \"My name/Father\\'s Name/Mother\\'s name is incorrect on grade card. How do I get it corrected?\", \\n      \"document_id\": \"abe3ea9dd73859fa38d968e8665e71e9\", \\n      \"meta\": {\\n        \"answer\": \" Name correction on grade cards/PDC needs to be done in ERP at the office of student section of your Department. Kindly contact the office of student section for the making the required corrections in ERP. Moreover, student must check his/her personal details from time to time in their ERP login.\", \\n        \"category\": \"Corrections on grade card /PDC\"\\n      }, \\n      \"offsets_in_context\": [\\n        {\\n          \"end\": 62, \\n          \"start\": 8\\n        }\\n      ], \\n      \"offsets_in_document\": [\\n        {\\n          \"end\": 62, \\n          \"start\": 8\\n        }\\n      ], \\n      \"score\": 0.020019853953272104, \\n      \"type\": \"extractive\"\\n    }, \\n    {\\n      \"answer\": \"the result sheet does not show GPA and CGPA.\", \\n      \"context\": \"I have cleared my backlog but the result sheet does not show GPA and CGPA. Why?\", \\n      \"document_id\": \"9c4457e091507f8b259ac284a8e5b00f\", \\n      \"meta\": {\\n        \"answer\": \" GPA and CGPA are not mentioned on backlog grade cards. GPA, CGPA will be highlighted on regular trimester grade card only.\", \\n        \"category\": \"grade card\"\\n      }, \\n      \"offsets_in_context\": [\\n        {\\n          \"end\": 74, \\n          \"start\": 30\\n        }\\n      ], \\n      \"offsets_in_document\": [\\n        {\\n          \"end\": 74, \\n          \"start\": 30\\n        }\\n      ], \\n      \"score\": 0.006284196628257632, \\n      \"type\": \"extractive\"\\n    }, \\n    {\\n      \"answer\": \"CGPA\", \\n      \"context\": \"my backlog, but the result on ERP is not updated .It still shows earlier CGPA.As a result, it is affecting my CGPA of next trimesters also. How do I g\", \\n      \"document_id\": \"6af1d2c55c8e7d048c60c9c69002450d\", \\n      \"meta\": {\\n        \"answer\": \" Grade card shows first attempt GPA and CGPA only. Hence, even if you have cleared backlog, improved CGPA for that trimester will not be seen on grade card.\", \\n        \"category\": \"grade card\"\\n      }, \\n      \"offsets_in_context\": [\\n        {\\n          \"end\": 77, \\n          \"start\": 73\\n        }\\n      ], \\n      \"offsets_in_document\": [\\n        {\\n          \"end\": 92, \\n          \"start\": 88\\n        }\\n      ], \\n      \"score\": 0.0010825057106558233, \\n      \"type\": \"extractive\"\\n    }, \\n    {\\n      \"answer\": \"CGPA\", \\n      \"context\": \"What if I need to know my correct CGPA?\", \\n      \"document_id\": \"966e22115dbfcfbd8cf9f131c6147b7e\", \\n      \"meta\": {\\n        \"answer\": \"CGPA is seen on the grade card. The CGPA count can be verified by referring to the passing    criteria    mentioned    in    Exam    Ordinance    2020(https://mitwpu.edu.in/examination/images/documents/Examination Ordinances 2020.pdf)\", \\n        \"category\": \"grade card\"\\n      }, \\n      \"offsets_in_context\": [\\n        {\\n          \"end\": 38, \\n          \"start\": 34\\n        }\\n      ], \\n      \"offsets_in_document\": [\\n        {\\n          \"end\": 38, \\n          \"start\": 34\\n        }\\n      ], \\n      \"score\": 0.0004499115457292646, \\n      \"type\": \"extractive\"\\n    }, \\n    {\\n      \"answer\": \"Do I need to submit an Exam form for the end term exam\", \\n      \"context\": \"Do I need to submit an Exam form for the end term exam?\", \\n      \"document_id\": \"6ab107c30bb05424f04174e0aeef64c\", \\n      \"meta\": {\\n        \"answer\": \" Yes, it is necessary to fill exam form for every end term exam.\", \\n        \"category\": \"Exam Form Issues\"\\n      }, \\n      \"offsets_in_context\": [\\n        {\\n          \"end\": 54, \\n          \"start\": 0\\n        }\\n      ], \\n      \"offsets_in_document\": [\\n        {\\n          \"end\": 54, \\n          \"start\": 0\\n        }\\n      ], \\n      \"score\": 0.00031604754622094333, \\n      \"type\": \"extractive\"\\n    }\\n  ], \\n  \"documents\": [\\n    {\\n      \"content\": \"My name/Father\\'s Name/Mother\\'s name is incorrect on grade card. How do I get it corrected?\", \\n      \"content_type\": \"text\", \\n      \"embedding\": null, \\n      \"id\": \"abe3ea9dd73859fa38d968e8665e71e9\", \\n      \"meta\": {\\n        \"answer\": \" Name correction on grade cards/PDC needs to be done in ERP at the office of student section of your Department. Kindly contact the office of student section for the making the required corrections in ERP. Moreover, student must check his/her personal details from time to time in their ERP login.\", \\n        \"category\": \"Corrections on grade card /PDC\"\\n      }, \\n      \"score\": null\\n    }, \\n    {\\n      \"content\": \"What if I need to know my correct CGPA?\", \\n      \"content_type\": \"text\", \\n      \"embedding\": null, \\n      \"id\": \"966e22115dbfcfbd8cf9f131c6147b7e\", \\n      \"meta\": {\\n        \"answer\": \"CGPA is seen on the grade card. The CGPA count can be verified by referring to the passing    criteria    mentioned    in    Exam    Ordinance    2020(https://mitwpu.edu.in/examination/images/documents/Examination Ordinances 2020.pdf)\", \\n        \"category\": \"grade card\"\\n      }, \\n      \"score\": null\\n    }, \\n    {\\n      \"content\": \"I have cleared my backlog but the result sheet does not show GPA and CGPA. Why?\", \\n      \"content_type\": \"text\", \\n      \"embedding\": null, \\n      \"id\": \"9c4457e091507f8b259ac284a8e5b00f\", \\n      \"meta\": {\\n        \"answer\": \" GPA and CGPA are not mentioned on backlog grade cards. GPA, CGPA will be highlighted on regular trimester grade card only.\", \\n        \"category\": \"grade card\"\\n      }, \\n      \"score\": null\\n    }, \\n    {\\n      \"content\": \"I have cleared my backlog, but the result on ERP is not updated .It still shows earlier CGPA.As a result, it is affecting my CGPA of next trimesters also. How do I get it corrected?\", \\n      \"content_type\": \"text\", \\n      \"embedding\": null, \\n      \"id\": \"6af1d2c55c8e7d048c60c9c69002450d\", \\n      \"meta\": {\\n        \"answer\": \" Grade card shows first attempt GPA and CGPA only. Hence, even if you have cleared backlog, improved CGPA for that trimester will not be seen on grade card.\", \\n        \"category\": \"grade card\"\\n      }, \\n      \"score\": null\\n    }, \\n    {\\n      \"content\": \"What do I do if I have not received my grade card?\", \\n      \"content_type\": \"text\", \\n      \"embedding\": null, \\n      \"id\": \"638673d0e2181bbf99a0632260d84bc1\", \\n      \"meta\": {\\n        \"answer\": \"Grade cards should be collected from the student section of your Department. If your grade card is not available at the student section then you must fill the student assistance form (https://mitwpu.edu.in/imaqes/documents/Student-Assistant-Form.pdf)  at  Department of Examination and get the remark from the student section on it and submit to Examination Department.Corrections on grade card /PDC\", \\n        \"category\": \"grade card\"\\n      }, \\n      \"score\": null\\n    }, \\n    {\\n      \"content\": \"How can I get a new copy of corrected grade cards?\", \\n      \"content_type\": \"text\", \\n      \"embedding\": null, \\n      \"id\": \"d1617105a228e5e7dbdeeabf65977657\", \\n      \"meta\": {\\n        \"answer\": \" Once the required corrections are done in ERP, You can apply for corrected grade cards by    filling    and    sending    the    student    assistance    form (https://mitwpu.edu.in/imaoes/documents/Student-Assistant-Form.pdf)  having  verification remark from student section along with scan copies of grade cards and screenshot of grade card in ERP that reflects the required corrections to exam.helpdesk@mitwpu.edu.in. In the assistant form, clearly mention details of grade cards in which corrections are required (i.eTrimester no., Regular/Backlog, Month & Year).Submit the original grade cards at Department for Examination.\", \\n        \"category\": \"Corrections on grade card /PDC\"\\n      }, \\n      \"score\": null\\n    }, \\n    {\\n      \"content\": \"From where should I collect the corrected grade cards/PDC?\", \\n      \"content_type\": \"text\", \\n      \"embedding\": null, \\n      \"id\": \"6010f52a532239c5de6728e4bb67687f\", \\n      \"meta\": {\\n        \"answer\": \"You have to collect the corrected grade cards/PDC from Department of Examination.\", \\n        \"category\": \"Corrections on grade card /PDC\"\\n      }, \\n      \"score\": null\\n    }, \\n    {\\n      \"content\": \"In how many days will I get the corrected grade cards?\", \\n      \"content_type\": \"text\", \\n      \"embedding\": null, \\n      \"id\": \"2ae04a1e5b26c8273400ff12c6b8b0b6\", \\n      \"meta\": {\\n        \"answer\": \"Processing of correction on grade cards will take minimum 4 working days after you submit all the required documents at the Department of Examination.Exam Form Issues\", \\n        \"category\": \"Corrections on grade card /PDC\"\\n      }, \\n      \"score\": null\\n    }, \\n    {\\n      \"content\": \"Do I need to submit an Exam form for the end term exam?\", \\n      \"content_type\": \"text\", \\n      \"embedding\": null, \\n      \"id\": \"6ab107c30bb05424f04174e0aeef64c\", \\n      \"meta\": {\\n        \"answer\": \" Yes, it is necessary to fill exam form for every end term exam.\", \\n        \"category\": \"Exam Form Issues\"\\n      }, \\n      \"score\": null\\n    }, \\n    {\\n      \"content\": \"I have an internal backlog, do I need to submit an exam form?\", \\n      \"content_type\": \"text\", \\n      \"embedding\": null, \\n      \"id\": \"faf8db3d0a21911c650ab6ba8da17d36\", \\n      \"meta\": {\\n        \"answer\": \" Yes, it is necessary to fill exam form for internal backlog also.\", \\n        \"category\": \"Exam Form Issues\"\\n      }, \\n      \"score\": null\\n    }\\n  ], \\n  \"no_ans_gap\": -7.938876748085022, \\n  \"node_id\": \"Reader\", \\n  \"params\": {\\n    \"Reader\": {\\n      \"top_k\": 5\\n    }, \\n    \"Retriever\": {\\n      \"top_k\": 10\\n    }\\n  }, \\n  \"query\": \"father\\'s name wrong\", \\n  \"root_node\": \"Query\"\\n}\\n'"
      ]
     },
     "execution_count": 3,
     "metadata": {},
     "output_type": "execute_result"
    }
   ],
   "source": [
    "r=requests.post(\"http://127.0.0.1:5000/query\",data=json.dumps({\"msg\":\"पिता का नाम गलत\"}), headers={\"Content-Type\":\"application/json\"})\n",
    "r.text"
   ]
  }
 ],
 "metadata": {
  "interpreter": {
   "hash": "45b368e6785e2cd5a7c775a810fd9753e06e1e4502f9915972042ae44a9ccaf7"
  },
  "kernelspec": {
   "display_name": "Python 3.9.12 ('haystack')",
   "language": "python",
   "name": "python3"
  },
  "language_info": {
   "codemirror_mode": {
    "name": "ipython",
    "version": 3
   },
   "file_extension": ".py",
   "mimetype": "text/x-python",
   "name": "python",
   "nbconvert_exporter": "python",
   "pygments_lexer": "ipython3",
   "version": "3.9.12"
  },
  "orig_nbformat": 4
 },
 "nbformat": 4,
 "nbformat_minor": 2
}
