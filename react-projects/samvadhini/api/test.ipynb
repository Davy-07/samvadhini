{
 "cells": [
  {
   "cell_type": "code",
   "execution_count": 19,
   "metadata": {},
   "outputs": [],
   "source": [
    "import requests\n",
    "import json"
   ]
  },
  {
   "cell_type": "code",
   "execution_count": 1,
   "metadata": {},
   "outputs": [
    {
     "ename": "NameError",
     "evalue": "name 'requests' is not defined",
     "output_type": "error",
     "traceback": [
      "\u001b[0;31m---------------------------------------------------------------------------\u001b[0m",
      "\u001b[0;31mNameError\u001b[0m                                 Traceback (most recent call last)",
      "\u001b[1;32m/workspaces/temp/react-projects/samvadhini/api/test.ipynb Cell 3\u001b[0m in \u001b[0;36m<cell line: 1>\u001b[0;34m()\u001b[0m\n\u001b[0;32m----> <a href='vscode-notebook-cell://codespaces%2Buneconomicalfairy14-temp-v6r6659vrc9wg/workspaces/temp/react-projects/samvadhini/api/test.ipynb#ch0000001vscode-remote?line=0'>1</a>\u001b[0m r\u001b[39m=\u001b[39mrequests\u001b[39m.\u001b[39mpost(\u001b[39m\"\u001b[39m\u001b[39mhttp://127.0.0.1:5000/query\u001b[39m\u001b[39m\"\u001b[39m,data\u001b[39m=\u001b[39mjson\u001b[39m.\u001b[39mdumps({\u001b[39m\"\u001b[39m\u001b[39mmsg\u001b[39m\u001b[39m\"\u001b[39m:\u001b[39m\"\u001b[39m\u001b[39mवडिलांचा नाव कार्डवर चुकीचा आहे\u001b[39m\u001b[39m\"\u001b[39m}), headers\u001b[39m=\u001b[39m{\u001b[39m\"\u001b[39m\u001b[39mContent-Type\u001b[39m\u001b[39m\"\u001b[39m:\u001b[39m\"\u001b[39m\u001b[39mapplication/json\u001b[39m\u001b[39m\"\u001b[39m})\n\u001b[1;32m      <a href='vscode-notebook-cell://codespaces%2Buneconomicalfairy14-temp-v6r6659vrc9wg/workspaces/temp/react-projects/samvadhini/api/test.ipynb#ch0000001vscode-remote?line=1'>2</a>\u001b[0m r\u001b[39m.\u001b[39mtext\n",
      "\u001b[0;31mNameError\u001b[0m: name 'requests' is not defined"
     ]
    }
   ],
   "source": [
    "r=requests.post(\"http://127.0.0.1:5000/query\",data=json.dumps({\"msg\":\"वडिलांचा नाव कार्डवर चुकीचा आहे\"}), headers={\"Content-Type\":\"application/json\"})\n",
    "r.text"
   ]
  },
  {
   "cell_type": "code",
   "execution_count": 2,
   "metadata": {},
   "outputs": [
    {
     "name": "stdout",
     "output_type": "stream",
     "text": [
      "faq.csv  init.py  test.ipynb  translated_answers.csv\n"
     ]
    }
   ],
   "source": [
    "!ls"
   ]
  },
  {
   "cell_type": "code",
   "execution_count": 3,
   "metadata": {},
   "outputs": [],
   "source": [
    "import pandas as pd"
   ]
  },
  {
   "cell_type": "code",
   "execution_count": 15,
   "metadata": {},
   "outputs": [
    {
     "data": {
      "text/html": [
       "<div>\n",
       "<style scoped>\n",
       "    .dataframe tbody tr th:only-of-type {\n",
       "        vertical-align: middle;\n",
       "    }\n",
       "\n",
       "    .dataframe tbody tr th {\n",
       "        vertical-align: top;\n",
       "    }\n",
       "\n",
       "    .dataframe thead th {\n",
       "        text-align: right;\n",
       "    }\n",
       "</style>\n",
       "<table border=\"1\" class=\"dataframe\">\n",
       "  <thead>\n",
       "    <tr style=\"text-align: right;\">\n",
       "      <th></th>\n",
       "      <th>id</th>\n",
       "      <th>question</th>\n",
       "      <th>answer</th>\n",
       "      <th>category</th>\n",
       "    </tr>\n",
       "  </thead>\n",
       "  <tbody>\n",
       "    <tr>\n",
       "      <th>0</th>\n",
       "      <td>1</td>\n",
       "      <td>What if I need to know my correct CGPA?</td>\n",
       "      <td>CGPA is seen on the grade card. The CGPA count...</td>\n",
       "      <td>grade card</td>\n",
       "    </tr>\n",
       "    <tr>\n",
       "      <th>1</th>\n",
       "      <td>2</td>\n",
       "      <td>I have cleared my backlog but the result sheet...</td>\n",
       "      <td>GPA and CGPA are not mentioned on backlog gra...</td>\n",
       "      <td>grade card</td>\n",
       "    </tr>\n",
       "    <tr>\n",
       "      <th>2</th>\n",
       "      <td>3</td>\n",
       "      <td>I have cleared my backlog, but the result on E...</td>\n",
       "      <td>Grade card shows first attempt GPA and CGPA o...</td>\n",
       "      <td>grade card</td>\n",
       "    </tr>\n",
       "    <tr>\n",
       "      <th>3</th>\n",
       "      <td>4</td>\n",
       "      <td>What do I do if I have not received my grade c...</td>\n",
       "      <td>Grade cards should be collected from the stude...</td>\n",
       "      <td>grade card</td>\n",
       "    </tr>\n",
       "    <tr>\n",
       "      <th>4</th>\n",
       "      <td>5</td>\n",
       "      <td>My name/Father's Name/Mother's name is incorre...</td>\n",
       "      <td>Name correction on grade cards/PDC needs to b...</td>\n",
       "      <td>Corrections on grade card /PDC</td>\n",
       "    </tr>\n",
       "  </tbody>\n",
       "</table>\n",
       "</div>"
      ],
      "text/plain": [
       "   id                                           question  \\\n",
       "0   1            What if I need to know my correct CGPA?   \n",
       "1   2  I have cleared my backlog but the result sheet...   \n",
       "2   3  I have cleared my backlog, but the result on E...   \n",
       "3   4  What do I do if I have not received my grade c...   \n",
       "4   5  My name/Father's Name/Mother's name is incorre...   \n",
       "\n",
       "                                              answer  \\\n",
       "0  CGPA is seen on the grade card. The CGPA count...   \n",
       "1   GPA and CGPA are not mentioned on backlog gra...   \n",
       "2   Grade card shows first attempt GPA and CGPA o...   \n",
       "3  Grade cards should be collected from the stude...   \n",
       "4   Name correction on grade cards/PDC needs to b...   \n",
       "\n",
       "                         category  \n",
       "0                      grade card  \n",
       "1                      grade card  \n",
       "2                      grade card  \n",
       "3                      grade card  \n",
       "4  Corrections on grade card /PDC  "
      ]
     },
     "execution_count": 15,
     "metadata": {},
     "output_type": "execute_result"
    }
   ],
   "source": [
    "og = pd.read_csv(\"sample_.csv\")\n",
    "ta = pd.read_csv(\"translated_answers.csv\")\n",
    "og.head(5)"
   ]
  },
  {
   "cell_type": "code",
   "execution_count": 16,
   "metadata": {},
   "outputs": [
    {
     "data": {
      "text/html": [
       "<div>\n",
       "<style scoped>\n",
       "    .dataframe tbody tr th:only-of-type {\n",
       "        vertical-align: middle;\n",
       "    }\n",
       "\n",
       "    .dataframe tbody tr th {\n",
       "        vertical-align: top;\n",
       "    }\n",
       "\n",
       "    .dataframe thead th {\n",
       "        text-align: right;\n",
       "    }\n",
       "</style>\n",
       "<table border=\"1\" class=\"dataframe\">\n",
       "  <thead>\n",
       "    <tr style=\"text-align: right;\">\n",
       "      <th></th>\n",
       "      <th>id</th>\n",
       "      <th>question</th>\n",
       "      <th>answer</th>\n",
       "      <th>category</th>\n",
       "      <th>answer_hindi</th>\n",
       "      <th>answer_marathi</th>\n",
       "    </tr>\n",
       "  </thead>\n",
       "  <tbody>\n",
       "    <tr>\n",
       "      <th>0</th>\n",
       "      <td>0</td>\n",
       "      <td>What if I need to know my correct CGPA?</td>\n",
       "      <td>CGPA is seen on the grade card. The CGPA count...</td>\n",
       "      <td>grade card</td>\n",
       "      <td>ग्रेड कार्ड पर सीजीपीए लिखा होता है। परीक्षा अ...</td>\n",
       "      <td>ग्रेड कार्डवर CGPA दिसतो. परीक्षा अध्यादेश 202...</td>\n",
       "    </tr>\n",
       "    <tr>\n",
       "      <th>1</th>\n",
       "      <td>1</td>\n",
       "      <td>I have cleared my backlog but the result sheet...</td>\n",
       "      <td>GPA and CGPA are not mentioned on backlog gra...</td>\n",
       "      <td>grade card</td>\n",
       "      <td>बैकलॉग ग्रेड कार्ड पर जीपीए और सीजीपीए का उल्ल...</td>\n",
       "      <td>बॅकलॉग ग्रेड कार्डवर GPA आणि CGPA नमूद केलेले ...</td>\n",
       "    </tr>\n",
       "    <tr>\n",
       "      <th>2</th>\n",
       "      <td>2</td>\n",
       "      <td>I have cleared my backlog, but the result on E...</td>\n",
       "      <td>Grade card shows first attempt GPA and CGPA o...</td>\n",
       "      <td>grade card</td>\n",
       "      <td>ग्रेड कार्ड केवल पहला प्रयास GPA और CGPA दिखात...</td>\n",
       "      <td>ग्रेड कार्ड प्रथम प्रयत्न GPA आणि CGPA दर्शवित...</td>\n",
       "    </tr>\n",
       "    <tr>\n",
       "      <th>3</th>\n",
       "      <td>3</td>\n",
       "      <td>What do I do if I have not received my grade c...</td>\n",
       "      <td>Grade cards should be collected from the stude...</td>\n",
       "      <td>grade card</td>\n",
       "      <td>ग्रेड कार्ड आपके विभाग के छात्र अनुभाग से एकत्...</td>\n",
       "      <td>तुमच्या विभागातील विद्यार्थी विभागाकडून ग्रेड ...</td>\n",
       "    </tr>\n",
       "    <tr>\n",
       "      <th>4</th>\n",
       "      <td>4</td>\n",
       "      <td>My name/Father's Name/Mother's name is incorre...</td>\n",
       "      <td>Name correction on grade cards/PDC needs to b...</td>\n",
       "      <td>Corrections on grade card /PDC</td>\n",
       "      <td>आपके विभाग के छात्र अनुभाग के कार्यालय में ईआर...</td>\n",
       "      <td>तुमच्या विभागाच्या विद्यार्थी विभागाच्या कार्य...</td>\n",
       "    </tr>\n",
       "  </tbody>\n",
       "</table>\n",
       "</div>"
      ],
      "text/plain": [
       "   id                                           question  \\\n",
       "0   0            What if I need to know my correct CGPA?   \n",
       "1   1  I have cleared my backlog but the result sheet...   \n",
       "2   2  I have cleared my backlog, but the result on E...   \n",
       "3   3  What do I do if I have not received my grade c...   \n",
       "4   4  My name/Father's Name/Mother's name is incorre...   \n",
       "\n",
       "                                              answer  \\\n",
       "0  CGPA is seen on the grade card. The CGPA count...   \n",
       "1   GPA and CGPA are not mentioned on backlog gra...   \n",
       "2   Grade card shows first attempt GPA and CGPA o...   \n",
       "3  Grade cards should be collected from the stude...   \n",
       "4   Name correction on grade cards/PDC needs to b...   \n",
       "\n",
       "                         category  \\\n",
       "0                      grade card   \n",
       "1                      grade card   \n",
       "2                      grade card   \n",
       "3                      grade card   \n",
       "4  Corrections on grade card /PDC   \n",
       "\n",
       "                                        answer_hindi  \\\n",
       "0  ग्रेड कार्ड पर सीजीपीए लिखा होता है। परीक्षा अ...   \n",
       "1  बैकलॉग ग्रेड कार्ड पर जीपीए और सीजीपीए का उल्ल...   \n",
       "2  ग्रेड कार्ड केवल पहला प्रयास GPA और CGPA दिखात...   \n",
       "3  ग्रेड कार्ड आपके विभाग के छात्र अनुभाग से एकत्...   \n",
       "4  आपके विभाग के छात्र अनुभाग के कार्यालय में ईआर...   \n",
       "\n",
       "                                      answer_marathi  \n",
       "0  ग्रेड कार्डवर CGPA दिसतो. परीक्षा अध्यादेश 202...  \n",
       "1  बॅकलॉग ग्रेड कार्डवर GPA आणि CGPA नमूद केलेले ...  \n",
       "2  ग्रेड कार्ड प्रथम प्रयत्न GPA आणि CGPA दर्शवित...  \n",
       "3  तुमच्या विभागातील विद्यार्थी विभागाकडून ग्रेड ...  \n",
       "4  तुमच्या विभागाच्या विद्यार्थी विभागाच्या कार्य...  "
      ]
     },
     "execution_count": 16,
     "metadata": {},
     "output_type": "execute_result"
    }
   ],
   "source": [
    "ta.head(5)"
   ]
  },
  {
   "cell_type": "code",
   "execution_count": 17,
   "metadata": {},
   "outputs": [],
   "source": [
    "ta.drop('question', inplace=True, axis=1)\n",
    "ta.drop('answer', inplace=True, axis=1)\n",
    "ta.drop('id', inplace=True, axis=1)"
   ]
  },
  {
   "cell_type": "code",
   "execution_count": 18,
   "metadata": {},
   "outputs": [
    {
     "data": {
      "text/html": [
       "<div>\n",
       "<style scoped>\n",
       "    .dataframe tbody tr th:only-of-type {\n",
       "        vertical-align: middle;\n",
       "    }\n",
       "\n",
       "    .dataframe tbody tr th {\n",
       "        vertical-align: top;\n",
       "    }\n",
       "\n",
       "    .dataframe thead th {\n",
       "        text-align: right;\n",
       "    }\n",
       "</style>\n",
       "<table border=\"1\" class=\"dataframe\">\n",
       "  <thead>\n",
       "    <tr style=\"text-align: right;\">\n",
       "      <th></th>\n",
       "      <th>category</th>\n",
       "      <th>answer_hindi</th>\n",
       "      <th>answer_marathi</th>\n",
       "    </tr>\n",
       "  </thead>\n",
       "  <tbody>\n",
       "    <tr>\n",
       "      <th>0</th>\n",
       "      <td>grade card</td>\n",
       "      <td>ग्रेड कार्ड पर सीजीपीए लिखा होता है। परीक्षा अ...</td>\n",
       "      <td>ग्रेड कार्डवर CGPA दिसतो. परीक्षा अध्यादेश 202...</td>\n",
       "    </tr>\n",
       "    <tr>\n",
       "      <th>1</th>\n",
       "      <td>grade card</td>\n",
       "      <td>बैकलॉग ग्रेड कार्ड पर जीपीए और सीजीपीए का उल्ल...</td>\n",
       "      <td>बॅकलॉग ग्रेड कार्डवर GPA आणि CGPA नमूद केलेले ...</td>\n",
       "    </tr>\n",
       "    <tr>\n",
       "      <th>2</th>\n",
       "      <td>grade card</td>\n",
       "      <td>ग्रेड कार्ड केवल पहला प्रयास GPA और CGPA दिखात...</td>\n",
       "      <td>ग्रेड कार्ड प्रथम प्रयत्न GPA आणि CGPA दर्शवित...</td>\n",
       "    </tr>\n",
       "    <tr>\n",
       "      <th>3</th>\n",
       "      <td>grade card</td>\n",
       "      <td>ग्रेड कार्ड आपके विभाग के छात्र अनुभाग से एकत्...</td>\n",
       "      <td>तुमच्या विभागातील विद्यार्थी विभागाकडून ग्रेड ...</td>\n",
       "    </tr>\n",
       "    <tr>\n",
       "      <th>4</th>\n",
       "      <td>Corrections on grade card /PDC</td>\n",
       "      <td>आपके विभाग के छात्र अनुभाग के कार्यालय में ईआर...</td>\n",
       "      <td>तुमच्या विभागाच्या विद्यार्थी विभागाच्या कार्य...</td>\n",
       "    </tr>\n",
       "  </tbody>\n",
       "</table>\n",
       "</div>"
      ],
      "text/plain": [
       "                         category  \\\n",
       "0                      grade card   \n",
       "1                      grade card   \n",
       "2                      grade card   \n",
       "3                      grade card   \n",
       "4  Corrections on grade card /PDC   \n",
       "\n",
       "                                        answer_hindi  \\\n",
       "0  ग्रेड कार्ड पर सीजीपीए लिखा होता है। परीक्षा अ...   \n",
       "1  बैकलॉग ग्रेड कार्ड पर जीपीए और सीजीपीए का उल्ल...   \n",
       "2  ग्रेड कार्ड केवल पहला प्रयास GPA और CGPA दिखात...   \n",
       "3  ग्रेड कार्ड आपके विभाग के छात्र अनुभाग से एकत्...   \n",
       "4  आपके विभाग के छात्र अनुभाग के कार्यालय में ईआर...   \n",
       "\n",
       "                                      answer_marathi  \n",
       "0  ग्रेड कार्डवर CGPA दिसतो. परीक्षा अध्यादेश 202...  \n",
       "1  बॅकलॉग ग्रेड कार्डवर GPA आणि CGPA नमूद केलेले ...  \n",
       "2  ग्रेड कार्ड प्रथम प्रयत्न GPA आणि CGPA दर्शवित...  \n",
       "3  तुमच्या विभागातील विद्यार्थी विभागाकडून ग्रेड ...  \n",
       "4  तुमच्या विभागाच्या विद्यार्थी विभागाच्या कार्य...  "
      ]
     },
     "execution_count": 18,
     "metadata": {},
     "output_type": "execute_result"
    }
   ],
   "source": [
    "ta.head(5)"
   ]
  },
  {
   "cell_type": "code",
   "execution_count": 20,
   "metadata": {},
   "outputs": [],
   "source": [
    "with open('faq.csv') as infile, open('sample_.csv', 'w') as outfile:\n",
    "    for idx, line in enumerate(infile):\n",
    "        outfile.write(f'{idx},{line}')"
   ]
  },
  {
   "cell_type": "code",
   "execution_count": 21,
   "metadata": {},
   "outputs": [],
   "source": [
    "ta.to_csv('updatedtrans_ans.csv', index=False)"
   ]
  },
  {
   "cell_type": "code",
   "execution_count": 23,
   "metadata": {},
   "outputs": [],
   "source": [
    "with open('updatedtrans_ans.csv') as infile, open('indexedtrans_ans.csv', 'w') as outfile:\n",
    "    for idx, line in enumerate(infile):\n",
    "        outfile.write(f'{idx},{line}')"
   ]
  }
 ],
 "metadata": {
  "kernelspec": {
   "display_name": "Python 3.9.12 ('haystack')",
   "language": "python",
   "name": "python3"
  },
  "language_info": {
   "codemirror_mode": {
    "name": "ipython",
    "version": 3
   },
   "file_extension": ".py",
   "mimetype": "text/x-python",
   "name": "python",
   "nbconvert_exporter": "python",
   "pygments_lexer": "ipython3",
   "version": "3.9.12"
  },
  "orig_nbformat": 4,
  "vscode": {
   "interpreter": {
    "hash": "45b368e6785e2cd5a7c775a810fd9753e06e1e4502f9915972042ae44a9ccaf7"
   }
  }
 },
 "nbformat": 4,
 "nbformat_minor": 2
}
